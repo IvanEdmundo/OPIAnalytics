{
 "cells": [
  {
   "cell_type": "code",
   "execution_count": 1,
   "metadata": {},
   "outputs": [],
   "source": [
    "import findspark\n",
    "findspark.init()"
   ]
  },
  {
   "cell_type": "code",
   "execution_count": 2,
   "metadata": {},
   "outputs": [],
   "source": [
    "from pyspark import SparkContext\n",
    "from pyspark.sql import SQLContext\n",
    "import pandas as pd\n",
    "from pandas import DataFrame\n",
    "import numpy as np\n",
    "import statsmodels.api as sm\n",
    "import matplotlib.pyplot as plt"
   ]
  },
  {
   "cell_type": "code",
   "execution_count": 3,
   "metadata": {},
   "outputs": [],
   "source": [
    "from pyspark.sql import SparkSession\n",
    "spark= SparkSession.builder.appName('Data_Analysis').getOrCreate()"
   ]
  },
  {
   "cell_type": "code",
   "execution_count": 4,
   "metadata": {},
   "outputs": [],
   "source": [
    "df=spark.read.csv('all_data.csv')"
   ]
  },
  {
   "cell_type": "code",
   "execution_count": 5,
   "metadata": {},
   "outputs": [
    {
     "name": "stdout",
     "output_type": "stream",
     "text": [
      "root\n",
      " |-- _c0: string (nullable = true)\n",
      " |-- _c1: string (nullable = true)\n",
      " |-- _c2: string (nullable = true)\n",
      " |-- _c3: string (nullable = true)\n",
      " |-- _c4: string (nullable = true)\n",
      " |-- _c5: string (nullable = true)\n",
      " |-- _c6: string (nullable = true)\n",
      " |-- _c7: string (nullable = true)\n",
      " |-- _c8: string (nullable = true)\n",
      " |-- _c9: string (nullable = true)\n",
      " |-- _c10: string (nullable = true)\n",
      " |-- _c11: string (nullable = true)\n",
      " |-- _c12: string (nullable = true)\n",
      " |-- _c13: string (nullable = true)\n",
      " |-- _c14: string (nullable = true)\n",
      "\n"
     ]
    }
   ],
   "source": [
    "df.printSchema()"
   ]
  },
  {
   "cell_type": "code",
   "execution_count": 6,
   "metadata": {},
   "outputs": [],
   "source": [
    "df=spark.read.format('csv').options(header='true').load('all_data.csv')"
   ]
  },
  {
   "cell_type": "code",
   "execution_count": 7,
   "metadata": {},
   "outputs": [
    {
     "name": "stdout",
     "output_type": "stream",
     "text": [
      "root\n",
      " |-- producto: string (nullable = true)\n",
      " |-- presentacion: string (nullable = true)\n",
      " |-- marca: string (nullable = true)\n",
      " |-- categoria: string (nullable = true)\n",
      " |-- catalogo: string (nullable = true)\n",
      " |-- precio: string (nullable = true)\n",
      " |-- fechaRegistro: string (nullable = true)\n",
      " |-- cadenaComercial: string (nullable = true)\n",
      " |-- giro: string (nullable = true)\n",
      " |-- nombreComercial: string (nullable = true)\n",
      " |-- direccion: string (nullable = true)\n",
      " |-- estado: string (nullable = true)\n",
      " |-- municipio: string (nullable = true)\n",
      " |-- latitud: string (nullable = true)\n",
      " |-- longitud: string (nullable = true)\n",
      "\n"
     ]
    }
   ],
   "source": [
    "df.printSchema()"
   ]
  },
  {
   "cell_type": "code",
   "execution_count": 8,
   "metadata": {
    "scrolled": true
   },
   "outputs": [
    {
     "name": "stdout",
     "output_type": "stream",
     "text": [
      "+--------------------+--------------------+------------------+----------------+----------------+------+--------------------+------------------+--------------------+--------------------+--------------------+----------------+--------------------+--------+----------+\n",
      "|            producto|        presentacion|             marca|       categoria|        catalogo|precio|       fechaRegistro|   cadenaComercial|                giro|     nombreComercial|           direccion|          estado|           municipio| latitud|  longitud|\n",
      "+--------------------+--------------------+------------------+----------------+----------------+------+--------------------+------------------+--------------------+--------------------+--------------------+----------------+--------------------+--------+----------+\n",
      "|CUADERNO FORMA IT...|96 HOJAS PASTA DU...|          ESTRELLA|MATERIAL ESCOLAR|UTILES ESCOLARES|  25.9|2011-05-18 00:00:...|ABASTECEDORA LUMEN|          PAPELERIAS|ABASTECEDORA LUME...|CANNES No. 6 ESQ....|DISTRITO FEDERAL|TLALPAN          ...|19.29699|-99.125417|\n",
      "|            CRAYONES|CAJA 12 CERAS. JU...|           CRAYOLA|MATERIAL ESCOLAR|UTILES ESCOLARES|  27.5|2011-05-18 00:00:...|ABASTECEDORA LUMEN|          PAPELERIAS|ABASTECEDORA LUME...|CANNES No. 6 ESQ....|DISTRITO FEDERAL|TLALPAN          ...|19.29699|-99.125417|\n",
      "|            CRAYONES|CAJA 12 CERAS. TA...|           CRAYOLA|MATERIAL ESCOLAR|UTILES ESCOLARES|  13.9|2011-05-18 00:00:...|ABASTECEDORA LUMEN|          PAPELERIAS|ABASTECEDORA LUME...|CANNES No. 6 ESQ....|DISTRITO FEDERAL|TLALPAN          ...|19.29699|-99.125417|\n",
      "|   COLORES DE MADERA|CAJA 12 PIEZAS LA...|          PINCELIN|MATERIAL ESCOLAR|UTILES ESCOLARES|  46.9|2011-05-18 00:00:...|ABASTECEDORA LUMEN|          PAPELERIAS|ABASTECEDORA LUME...|CANNES No. 6 ESQ....|DISTRITO FEDERAL|TLALPAN          ...|19.29699|-99.125417|\n",
      "|         COLOR LARGO|CAJA 36 PIEZAS. C...|           CRAYOLA|MATERIAL ESCOLAR|UTILES ESCOLARES|   115|2011-05-18 00:00:...|ABASTECEDORA LUMEN|          PAPELERIAS|ABASTECEDORA LUME...|CANNES No. 6 ESQ....|DISTRITO FEDERAL|TLALPAN          ...|19.29699|-99.125417|\n",
      "|           BOLIGRAFO|BLISTER 3 PIEZAS....|  BIC. CRISTAL GEL|MATERIAL ESCOLAR|UTILES ESCOLARES|  32.5|2011-05-18 00:00:...|ABASTECEDORA LUMEN|          PAPELERIAS|ABASTECEDORA LUME...|CANNES No. 6 ESQ....|DISTRITO FEDERAL|TLALPAN          ...|19.29699|-99.125417|\n",
      "|      CINTA ADHESIVA|BOLSA 1 PIEZA. 12...|    SCOTCH 3M. 600|MATERIAL ESCOLAR|UTILES ESCOLARES|     9|2011-05-18 00:00:...|ABASTECEDORA LUMEN|          PAPELERIAS|ABASTECEDORA LUME...|CANNES No. 6 ESQ....|DISTRITO FEDERAL|TLALPAN          ...|19.29699|-99.125417|\n",
      "|   COLORES DE MADERA|CAJA 24 PIEZAS. L...|    KORES. KOLORES|MATERIAL ESCOLAR|UTILES ESCOLARES|  95.9|2011-05-18 00:00:...|ABASTECEDORA LUMEN|          PAPELERIAS|ABASTECEDORA LUME...|CANNES No. 6 ESQ....|DISTRITO FEDERAL|TLALPAN          ...|19.29699|-99.125417|\n",
      "|            CRAYONES|CAJA 24 CERAS. TA...|PAPER MATE. CARMEN|MATERIAL ESCOLAR|UTILES ESCOLARES|  23.2|2011-05-18 00:00:...|ABASTECEDORA LUMEN|          PAPELERIAS|ABASTECEDORA LUME...|CANNES No. 6 ESQ....|DISTRITO FEDERAL|TLALPAN          ...|19.29699|-99.125417|\n",
      "|  PAN BLANCO BOLILLO|               PIEZA|               S/M|             PAN|         BASICOS|   1.2|2011-01-10 00:00:...|COMERCIAL MEXICANA|TIENDA DE AUTOSER...|COMERCIAL MEXICAN...|AV. LAGO DE GUADA...|          MÉXICO|ATIZAPAN         ...|      NA|        NA|\n",
      "+--------------------+--------------------+------------------+----------------+----------------+------+--------------------+------------------+--------------------+--------------------+--------------------+----------------+--------------------+--------+----------+\n",
      "only showing top 10 rows\n",
      "\n"
     ]
    }
   ],
   "source": [
    "df.show(10)"
   ]
  },
  {
   "cell_type": "markdown",
   "metadata": {},
   "source": [
    "## Procesamiento de los datos\n",
    "### ¿Cuantos registros hay?"
   ]
  },
  {
   "cell_type": "code",
   "execution_count": 9,
   "metadata": {},
   "outputs": [
    {
     "name": "stdout",
     "output_type": "stream",
     "text": [
      "Numero de registros 62530715\n"
     ]
    }
   ],
   "source": [
    "df.cache()\n",
    "print('Numero de registros', df.count())"
   ]
  },
  {
   "cell_type": "markdown",
   "metadata": {},
   "source": [
    "## ¿Cuantas categorias?"
   ]
  },
  {
   "cell_type": "code",
   "execution_count": 10,
   "metadata": {},
   "outputs": [
    {
     "name": "stdout",
     "output_type": "stream",
     "text": [
      "+-----+\n",
      "|count|\n",
      "+-----+\n",
      "|   41|\n",
      "+-----+\n",
      "\n"
     ]
    }
   ],
   "source": [
    "from pyspark.sql.functions import col, countDistinct\n",
    "import pyspark.sql.functions as fn\n",
    "df.agg(countDistinct(col(\"categoria\")).alias('count')).show()"
   ]
  },
  {
   "cell_type": "markdown",
   "metadata": {},
   "source": [
    "## ¿Cuantas cadenas comerciales estan siendo monitoreadas?"
   ]
  },
  {
   "cell_type": "code",
   "execution_count": 11,
   "metadata": {},
   "outputs": [
    {
     "name": "stdout",
     "output_type": "stream",
     "text": [
      "+-----+\n",
      "|count|\n",
      "+-----+\n",
      "|  705|\n",
      "+-----+\n",
      "\n"
     ]
    }
   ],
   "source": [
    "df.agg(countDistinct(col(\"cadenaComercial\")).alias('count')).show()"
   ]
  },
  {
   "cell_type": "markdown",
   "metadata": {},
   "source": [
    "## ¿Como podrias determinar la calidad de los datos?¿Detectaste ualgun tipo de inconsistencia o error en la fuente?"
   ]
  },
  {
   "cell_type": "markdown",
   "metadata": {},
   "source": [
    "Podria usar la libreria PySpark check aunque aun no es familiarizado con ella. Para poder detectar missing values, inconsistencias, etc."
   ]
  },
  {
   "cell_type": "markdown",
   "metadata": {},
   "source": [
    "## ¿Cuales son los productos mas monitoreados en cada entidad?"
   ]
  },
  {
   "cell_type": "code",
   "execution_count": 21,
   "metadata": {},
   "outputs": [],
   "source": [
    "df.createOrReplaceTempView('productos')\n",
    "\n",
    "sqldf=spark.sql('select \\\n",
    "                    estado,\\\n",
    "                    MAX(Pcount) as Mascontado\\\n",
    "                    from (select\\\n",
    "                            productos.estado,\\\n",
    "                            productos.producto,\\\n",
    "                            count(productos.producto) as Pcount\\\n",
    "                            from productos\\\n",
    "                            group by productos.estado,productos.producto\\\n",
    "                         )group by estado')\n"
   ]
  },
  {
   "cell_type": "code",
   "execution_count": 22,
   "metadata": {},
   "outputs": [
    {
     "name": "stdout",
     "output_type": "stream",
     "text": [
      "+--------------------+----------+\n",
      "|              estado|Mascontado|\n",
      "+--------------------+----------+\n",
      "|        QUINTANA ROO|     34846|\n",
      "|          NUEVO LEÓN|     50307|\n",
      "|             SINALOA|     33115|\n",
      "|             TABASCO|     28754|\n",
      "|     BAJA CALIFORNIA|     37243|\n",
      "|            TLAXCALA|     43904|\n",
      "|COAHUILA DE ZARAGOZA|     28613|\n",
      "|                null|       804|\n",
      "|       ESQ. SUR 125\"|       130|\n",
      "| COL. EDUARDO GUERRA|       275|\n",
      "+--------------------+----------+\n",
      "only showing top 10 rows\n",
      "\n"
     ]
    }
   ],
   "source": [
    "sqldf.show(10)"
   ]
  },
  {
   "cell_type": "markdown",
   "metadata": {},
   "source": [
    "## ¿Cual es la cadena comercial con mayor variedad de productos monitoreados?\n"
   ]
  },
  {
   "cell_type": "code",
   "execution_count": 14,
   "metadata": {},
   "outputs": [],
   "source": [
    "sqldf1=spark.sql('select cadenacomercial,\\\n",
    "                            SUM(Pcount) as conteoproducto\\\n",
    "                            from(\\\n",
    "                                 select productos.cadenacomercial,\\\n",
    "                                 productos.producto,\\\n",
    "                                 count(productos.producto) as Pcount\\\n",
    "                                 from productos group by productos.cadenacomercial,productos.producto\\\n",
    "                                 )group by cadenacomercial order by SUM(Pcount) DESC' )"
   ]
  },
  {
   "cell_type": "code",
   "execution_count": 17,
   "metadata": {},
   "outputs": [
    {
     "name": "stdout",
     "output_type": "stream",
     "text": [
      "+--------------------+--------------+\n",
      "|     cadenacomercial|conteoproducto|\n",
      "+--------------------+--------------+\n",
      "|            WAL-MART|       8643133|\n",
      "|      BODEGA AURRERA|       6765453|\n",
      "|             SORIANA|       6546211|\n",
      "|MEGA COMERCIAL ME...|       4899509|\n",
      "|            CHEDRAUI|       4221625|\n",
      "|  COMERCIAL MEXICANA|       2598903|\n",
      "|            SUPERAMA|       2590459|\n",
      "|HIPERMERCADO SORIANA|       1706956|\n",
      "|     MERCADO SORIANA|       1533080|\n",
      "|       SORIANA SUPER|       1389901|\n",
      "+--------------------+--------------+\n",
      "only showing top 10 rows\n",
      "\n"
     ]
    }
   ],
   "source": [
    " sqldf1.show(10)"
   ]
  },
  {
   "cell_type": "markdown",
   "metadata": {},
   "source": [
    "# Analisis exploratorio de los datos"
   ]
  },
  {
   "cell_type": "markdown",
   "metadata": {},
   "source": [
    "## genera una canasta de productos basicos que te permita comparar precios geografica y temporalmente"
   ]
  },
  {
   "cell_type": "code",
   "execution_count": 15,
   "metadata": {},
   "outputs": [],
   "source": [
    "sqldf2=spark.sql('select \\\n",
    "                    productos.producto,\\\n",
    "                    productos.presentacion,\\\n",
    "                    productos.marca,\\\n",
    "                    productos.categoria,\\\n",
    "                    productos.precio,\\\n",
    "                    productos.fechaRegistro,\\\n",
    "                    productos.cadenaComercial,\\\n",
    "                    productos.estado,\\\n",
    "                    productos.municipio,\\\n",
    "                    productos.latitud,\\\n",
    "                    productos.longitud\\\n",
    "                    from productos where\\\n",
    "                    productos.producto IN (\\\n",
    "                    \"PASTA\",\"HUEVO\",\"LECHE\",\"QUESO\",\"POLLO\")'\n",
    "                )\n"
   ]
  },
  {
   "cell_type": "code",
   "execution_count": 18,
   "metadata": {},
   "outputs": [
    {
     "name": "stdout",
     "output_type": "stream",
     "text": [
      "+--------+--------------------+--------+---------+------+--------------------+------------------+----------------+--------------------+---------+----------+\n",
      "|producto|        presentacion|   marca|categoria|precio|       fechaRegistro|   cadenaComercial|          estado|           municipio|  latitud|  longitud|\n",
      "+--------+--------------------+--------+---------+------+--------------------+------------------+----------------+--------------------+---------+----------+\n",
      "|   HUEVO| PAQUETE CON 12 ROJO|SAN JUAN|    HUEVO| 17.57|2011-01-10 00:00:...|COMERCIAL MEXICANA|          MÉXICO|ATIZAPAN         ...|       NA|        NA|\n",
      "|   HUEVO|PAQUETE CON 12 BL...|SAN JUAN|    HUEVO| 17.57|2011-01-10 00:00:...|COMERCIAL MEXICANA|          MÉXICO|ATIZAPAN         ...|       NA|        NA|\n",
      "|   HUEVO|PAQUETE CON 12 BL...| BACHOCO|    HUEVO|  18.2|2011-01-10 00:00:...|COMERCIAL MEXICANA|DISTRITO FEDERAL|BENITO JUAREZ    ...|19.366903|-99.181344|\n",
      "+--------+--------------------+--------+---------+------+--------------------+------------------+----------------+--------------------+---------+----------+\n",
      "only showing top 3 rows\n",
      "\n"
     ]
    }
   ],
   "source": [
    "sqldf2.show(3)"
   ]
  },
  {
   "cell_type": "code",
   "execution_count": 25,
   "metadata": {},
   "outputs": [],
   "source": [
    "sqldf2.createOrReplaceTempView('canasta')\n",
    "\n",
    "ciudad=spark.sql('select canasta.municipio,\\\n",
    "                        SUM(canasta.precio) as CostoCanasta\\\n",
    "                        from\\\n",
    "                        canasta\\\n",
    "                        group by canasta.municipio,canasta.precio\\\n",
    "                        order by CostoCanasta DESC')"
   ]
  },
  {
   "cell_type": "code",
   "execution_count": 26,
   "metadata": {},
   "outputs": [
    {
     "name": "stdout",
     "output_type": "stream",
     "text": [
      "+--------------------+------------------+\n",
      "|           municipio|      CostoCanasta|\n",
      "+--------------------+------------------+\n",
      "|IZTAPALAPA       ...|           17964.6|\n",
      "|ECATEPEC         ...|16183.300000000003|\n",
      "|GUADALAJARA      ...|           14809.0|\n",
      "|GUADALAJARA      ...|           13516.0|\n",
      "|ECATEPEC         ...|12917.700000000003|\n",
      "+--------------------+------------------+\n",
      "only showing top 5 rows\n",
      "\n"
     ]
    }
   ],
   "source": [
    "ciudad.show(5)"
   ]
  },
  {
   "cell_type": "code",
   "execution_count": null,
   "metadata": {},
   "outputs": [],
   "source": []
  }
 ],
 "metadata": {
  "kernelspec": {
   "display_name": "Python 3",
   "language": "python",
   "name": "python3"
  },
  "language_info": {
   "codemirror_mode": {
    "name": "ipython",
    "version": 3
   },
   "file_extension": ".py",
   "mimetype": "text/x-python",
   "name": "python",
   "nbconvert_exporter": "python",
   "pygments_lexer": "ipython3",
   "version": "3.8.5"
  }
 },
 "nbformat": 4,
 "nbformat_minor": 4
}
